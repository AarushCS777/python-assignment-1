{
 "cells": [
  {
   "cell_type": "code",
   "execution_count": 1,
   "id": "fc538f72-a0b8-47dc-8420-836fad1a91dc",
   "metadata": {},
   "outputs": [
    {
     "name": "stdin",
     "output_type": "stream",
     "text": [
      "enter a number: 40\n",
      "enter another number: 20\n"
     ]
    },
    {
     "name": "stdout",
     "output_type": "stream",
     "text": [
      "addition : 60\n",
      "subtraction : 20\n",
      "multiplication : 800\n",
      "division : 2.0\n",
      "modulus : 0\n",
      "exponention : 109951162777600000000000000000000\n",
      "floor division : 2\n"
     ]
    }
   ],
   "source": [
    "a=int(input(\"enter a number:\"))\n",
    "b=int(input(\"enter another number:\"))\n",
    "c=a+b\n",
    "d=a-b\n",
    "p=a*b\n",
    "q=a/b\n",
    "m=a%b\n",
    "e=a**b\n",
    "f=a//b\n",
    "print(\"addition :\",c)\n",
    "print(\"subtraction :\",d)\n",
    "print(\"multiplication :\",p)\n",
    "print(\"division :\",q)\n",
    "print(\"modulus :\",m)\n",
    "print(\"exponention :\",e)\n",
    "print(\"floor division :\",f)"
   ]
  },
  {
   "cell_type": "code",
   "execution_count": 31,
   "id": "6f876f99-f898-4f64-b448-d53f5d784bd8",
   "metadata": {},
   "outputs": [
    {
     "name": "stdin",
     "output_type": "stream",
     "text": [
      "Enter first number:  24\n",
      "Enter second number:  20\n"
     ]
    },
    {
     "name": "stdout",
     "output_type": "stream",
     "text": [
      "first number is greater than second\n"
     ]
    }
   ],
   "source": [
    "a=int(input('Enter first number: '))\n",
    "b=int(input('Enter second number: '))\n",
    "if a>b:\n",
    "    print('first number is greater than second')\n",
    "elif a==b:\n",
    "    print('first number is equal to second number')\n",
    "elif a<=b:\n",
    "    print('a is smaller than or equal to b')\n"
   ]
  },
  {
   "cell_type": "code",
   "execution_count": 33,
   "id": "907ec651-68ae-46ca-b347-dd2379a8ee05",
   "metadata": {},
   "outputs": [
    {
     "name": "stdin",
     "output_type": "stream",
     "text": [
      "enter a boolean value 1:- false\n",
      "enter a boolean value 2:- false\n",
      "enter a boolean value 3:- true\n"
     ]
    },
    {
     "name": "stdout",
     "output_type": "stream",
     "text": [
      "False\n",
      "True\n",
      "True\n",
      "True\n",
      "False\n"
     ]
    }
   ],
   "source": [
    "a=input(\"enter a boolean value 1:-\").strip().lower()==\"true\"\n",
    "b=input(\"enter a boolean value 2:-\").strip().lower()==\"true\"\n",
    "c=input(\"enter a boolean value 3:-\").strip().lower()==\"true\"\n",
    "print(a and b and c)#\n",
    "print(a or b or c)\n",
    "print(not a)\n",
    "print(not b)\n",
    "print(not c)\n"
   ]
  },
  {
   "cell_type": "code",
   "execution_count": 9,
   "id": "fbf722a9-93e2-4a30-99ed-8353431d52ef",
   "metadata": {},
   "outputs": [
    {
     "name": "stdin",
     "output_type": "stream",
     "text": [
      "Enter a word:  superman\n"
     ]
    },
    {
     "name": "stdout",
     "output_type": "stream",
     "text": [
      "8\n",
      "('s', 'n')\n",
      "namrepus\n",
      "SUPERMAN\n",
      "superman\n"
     ]
    }
   ],
   "source": [
    "a=input('Enter a word: ')\n",
    "b=len(a)\n",
    "c=a[0],a[-1]\n",
    "d=a[::-1]\n",
    "e=a.upper()\n",
    "f=a.lower()\n",
    "print(b)\n",
    "print(c)\n",
    "print(d)\n",
    "print(e)\n",
    "print(f)\n"
   ]
  },
  {
   "cell_type": "code",
   "execution_count": 11,
   "id": "0c9f890c-27ed-4354-b8f3-400410d49103",
   "metadata": {},
   "outputs": [
    {
     "name": "stdin",
     "output_type": "stream",
     "text": [
      "Enter a name:  Aarush\n",
      "Enter the age:  18\n"
     ]
    },
    {
     "name": "stdout",
     "output_type": "stream",
     "text": [
      "Hello Aarush you are 18 years old\n"
     ]
    }
   ],
   "source": [
    "a=input('Enter a name: ')\n",
    "b=int(input('Enter the age: '))\n",
    "print('Hello',a,'you are',b,'years old')\n"
   ]
  },
  {
   "cell_type": "code",
   "execution_count": 13,
   "id": "4e33b14d-b70c-4cad-9eae-fa0bf7bec5e7",
   "metadata": {},
   "outputs": [
    {
     "name": "stdin",
     "output_type": "stream",
     "text": [
      "Enter a sentence: I am ironman\n",
      "Enter the word: ironman\n"
     ]
    },
    {
     "name": "stdout",
     "output_type": "stream",
     "text": [
      "The word ironman found at 5 index position\n"
     ]
    }
   ],
   "source": [
    "a=input(\"Enter a sentence:\")\n",
    "b=input(\"Enter the word:\")\n",
    "c=a.find(b)\n",
    "if c !=-1: \n",
    "    print(f\"The word {b} found at {c} index position\")\n",
    "else:\n",
    "    print(f\"The {b} word not found\")\n",
    "\n"
   ]
  },
  {
   "cell_type": "code",
   "execution_count": 21,
   "id": "0c3ecba1-3dd9-451f-951b-d4a2896e87eb",
   "metadata": {},
   "outputs": [
    {
     "name": "stdin",
     "output_type": "stream",
     "text": [
      "enter a number:  45\n",
      "enter a number:  46\n",
      "enter a number:  48\n",
      "enter a number:  49\n",
      "enter a number:  50\n"
     ]
    },
    {
     "name": "stdout",
     "output_type": "stream",
     "text": [
      "[45, 46, 48, 49, 50]\n",
      "238\n",
      "50\n",
      "45\n"
     ]
    }
   ],
   "source": [
    "a=[]\n",
    "for i in range(1,6):\n",
    "    b=int(input('enter a number: '))\n",
    "    a.append(b)\n",
    "c=sum(a)\n",
    "d=max(a)\n",
    "e=min(a)\n",
    "print(a)\n",
    "print(c)\n",
    "print(d)\n",
    "print(e)\n"
   ]
  },
  {
   "cell_type": "code",
   "execution_count": 23,
   "id": "30ab1307-7ada-43bf-99ee-985ea90a1263",
   "metadata": {},
   "outputs": [
    {
     "name": "stdout",
     "output_type": "stream",
     "text": [
      "['apple', 'mango', 'grape', 'orange', 'watermelon']\n",
      "['apple', 'mango', 'grape', 'orange', 'watermelon', 'pineapple']\n",
      "['apple', 'mango', 'orange', 'watermelon', 'pineapple']\n"
     ]
    }
   ],
   "source": [
    "fruits=['apple' ,'mango', 'grape', 'orange', 'watermelon'] \n",
    "print(fruits) \n",
    "fruits.append('pineapple') \n",
    "print(fruits) \n",
    "fruits.remove('grape') \n",
    "print(fruits) \n"
   ]
  },
  {
   "cell_type": "code",
   "execution_count": 27,
   "id": "a0190b3f-66e4-4824-bd0e-319302076d09",
   "metadata": {},
   "outputs": [
    {
     "name": "stdin",
     "output_type": "stream",
     "text": [
      "Enter the number 1:  75\n",
      "Enter the number 2:  65\n",
      "Enter the number 3:  15\n",
      "Enter the number 4:  32\n",
      "Enter the number 5:  78\n"
     ]
    },
    {
     "name": "stdout",
     "output_type": "stream",
     "text": [
      "Ascending Order of the list:  [15, 32, 65, 75, 78]\n",
      "Descending Order of the list:  [78, 75, 65, 32, 15]\n"
     ]
    }
   ],
   "source": [
    "A = int(input(\"Enter the number 1: \")) \n",
    "B = int(input(\"Enter the number 2: \")) \n",
    "C = int(input(\"Enter the number 3: \")) \n",
    "D = int(input(\"Enter the number 4: \")) \n",
    "E = int(input(\"Enter the number 5: \")) \n",
    "f = [A, B, C, D, E]\n",
    "f.sort() \n",
    "print(\"Ascending Order of the list: \", f) \n",
    "f.sort(reverse=True) \n",
    "print(\"Descending Order of the list: \", f) \n",
    "\n"
   ]
  },
  {
   "cell_type": "code",
   "execution_count": 29,
   "id": "ad35d06b-1516-41e8-a140-83b3d29d0c1f",
   "metadata": {},
   "outputs": [
    {
     "name": "stdout",
     "output_type": "stream",
     "text": [
      "[1, 2, 3, 4, 5]\n",
      "[6, 7, 8, 9, 10]\n",
      "[2, 3, 4, 5, 6, 7]\n"
     ]
    }
   ],
   "source": [
    "Numbers=[1,2,3,4,5,6,7,8,9,10] \n",
    "print(Numbers[:5]) \n",
    "print(Numbers[-5:]) \n",
    "print(Numbers[1:7]) \n"
   ]
  },
  {
   "cell_type": "code",
   "execution_count": null,
   "id": "600c0b13-f240-4e42-9539-349e0d252894",
   "metadata": {},
   "outputs": [],
   "source": []
  }
 ],
 "metadata": {
  "kernelspec": {
   "display_name": "Python 3 (ipykernel)",
   "language": "python",
   "name": "python3"
  },
  "language_info": {
   "codemirror_mode": {
    "name": "ipython",
    "version": 3
   },
   "file_extension": ".py",
   "mimetype": "text/x-python",
   "name": "python",
   "nbconvert_exporter": "python",
   "pygments_lexer": "ipython3",
   "version": "3.12.4"
  }
 },
 "nbformat": 4,
 "nbformat_minor": 5
}
