{
 "cells": [
  {
   "cell_type": "code",
   "execution_count": 1,
   "id": "fc538f72-a0b8-47dc-8420-836fad1a91dc",
   "metadata": {},
   "outputs": [
    {
     "name": "stdin",
     "output_type": "stream",
     "text": [
      "enter a number: 45\n",
      "enter another number: 65\n"
     ]
    },
    {
     "name": "stdout",
     "output_type": "stream",
     "text": [
      "addition : 110\n",
      "subtraction : -20\n",
      "multiplication : 2925\n",
      "division : 0.6923076923076923\n",
      "modulus : 45\n",
      "exponention : 287616233996758386293038843954684893419910825453736049472704152632669682976285230324720032513141632080078125\n",
      "floor division : 0\n"
     ]
    }
   ],
   "source": [
    "a=int(input(\"enter a number:\"))\n",
    "b=int(input(\"enter another number:\"))\n",
    "c=a+b\n",
    "d=a-b\n",
    "p=a*b\n",
    "q=a/b\n",
    "m=a%b\n",
    "e=a**b\n",
    "f=a//b\n",
    "print(\"addition :\",c)\n",
    "print(\"subtraction :\",d)\n",
    "print(\"multiplication :\",p)\n",
    "print(\"division :\",q)\n",
    "print(\"modulus :\",m)\n",
    "print(\"exponention :\",e)\n",
    "print(\"floor division :\",f)"
   ]
  },
  {
   "cell_type": "code",
   "execution_count": 3,
   "id": "6f876f99-f898-4f64-b448-d53f5d784bd8",
   "metadata": {},
   "outputs": [
    {
     "name": "stdin",
     "output_type": "stream",
     "text": [
      "enter a :- 10\n",
      "enter b :- 54\n"
     ]
    },
    {
     "name": "stdout",
     "output_type": "stream",
     "text": [
      "a is smaller than b\n"
     ]
    }
   ],
   "source": [
    "a=int(input(\"enter a :-\"))\n",
    "b=int(input(\"enter b :-\"))\n",
    "if a>b:\n",
    "    print(\"a is greater than b\")\n",
    "elif a<b:\n",
    "    print(\"a is smaller than b\")\n",
    "else:\n",
    "    print(\"both are equal\")"
   ]
  },
  {
   "cell_type": "code",
   "execution_count": 5,
   "id": "907ec651-68ae-46ca-b347-dd2379a8ee05",
   "metadata": {},
   "outputs": [
    {
     "name": "stdin",
     "output_type": "stream",
     "text": [
      "enter a boolean value 1:- true\n",
      "enter a boolean value 2:- false\n",
      "enter a boolean value 3:- true\n"
     ]
    },
    {
     "name": "stdout",
     "output_type": "stream",
     "text": [
      "False\n",
      "True\n",
      "False\n",
      "True\n",
      "False\n"
     ]
    }
   ],
   "source": [
    "a=input(\"enter a boolean value 1:-\").strip().lower()==\"true\"\n",
    "b=input(\"enter a boolean value 2:-\").strip().lower()==\"true\"\n",
    "c=input(\"enter a boolean value 3:-\").strip().lower()==\"true\"\n",
    "print(a and b and c)\n",
    "print(a or b or c)\n",
    "print(not a)\n",
    "print(not b)\n",
    "print(not c)"
   ]
  },
  {
   "cell_type": "code",
   "execution_count": 7,
   "id": "fbf722a9-93e2-4a30-99ed-8353431d52ef",
   "metadata": {},
   "outputs": [
    {
     "name": "stdin",
     "output_type": "stream",
     "text": [
      "enter any string superman\n"
     ]
    },
    {
     "name": "stdout",
     "output_type": "stream",
     "text": [
      "8\n",
      "s\n",
      "n\n",
      "namrepus\n",
      "SUPERMAN\n",
      "superman\n"
     ]
    }
   ],
   "source": [
    "a=input(\"enter any string\")\n",
    "print(len(a))\n",
    "print(a[0])\n",
    "print(a[-1])\n",
    "print(a[::-1])\n",
    "print(a.upper())\n",
    "print(a.lower())"
   ]
  },
  {
   "cell_type": "code",
   "execution_count": 9,
   "id": "0c9f890c-27ed-4354-b8f3-400410d49103",
   "metadata": {},
   "outputs": [
    {
     "name": "stdin",
     "output_type": "stream",
     "text": [
      "enter your name Aarush\n",
      "enter your age 18\n"
     ]
    },
    {
     "name": "stdout",
     "output_type": "stream",
     "text": [
      "hello Aarush you are 18 years old\n"
     ]
    }
   ],
   "source": [
    "n=input(\"enter your name\")\n",
    "a=int(input(\"enter your age\"))\n",
    "print(\"hello\",n,\"you are\",a,\"years old\")"
   ]
  },
  {
   "cell_type": "code",
   "execution_count": 19,
   "id": "4e33b14d-b70c-4cad-9eae-fa0bf7bec5e7",
   "metadata": {},
   "outputs": [
    {
     "name": "stdin",
     "output_type": "stream",
     "text": [
      "Enter a sentence:  i am inevitable\n",
      "Enter the word:  inevitable\n"
     ]
    },
    {
     "name": "stdout",
     "output_type": "stream",
     "text": [
      "The word 'inevitable' found at index position 5.\n"
     ]
    }
   ],
   "source": [
    "a = input(\"Enter a sentence: \")\n",
    "b = input(\"Enter the word: \")\n",
    "c = a.find(b)\n",
    "\n",
    "if c != -1: \n",
    "    print(f\"The word '{b}' found at index position {c}.\")\n",
    "else: \n",
    "    print(f\"The word '{b}' not found.\")\n"
   ]
  },
  {
   "cell_type": "code",
   "execution_count": 21,
   "id": "0c3ecba1-3dd9-451f-951b-d4a2896e87eb",
   "metadata": {},
   "outputs": [
    {
     "name": "stdin",
     "output_type": "stream",
     "text": [
      "enter the no1:- 1\n",
      "enter the no2:- 3\n",
      "enter the no3:- 5\n",
      "enter the no4:- 7\n",
      "enter the no5:- 9\n"
     ]
    },
    {
     "name": "stdout",
     "output_type": "stream",
     "text": [
      "25\n",
      "9\n",
      "1\n"
     ]
    }
   ],
   "source": [
    "a=[]\n",
    "for i in range(5):\n",
    "    b=int(input(f\"enter the no{i+1}:-\"))\n",
    "    a.append(b)\n",
    "c=sum(a)\n",
    "d=max(a)\n",
    "e=min(a)\n",
    "print(c)\n",
    "print(d)\n",
    "print(e)\n"
   ]
  },
  {
   "cell_type": "code",
   "execution_count": 25,
   "id": "30ab1307-7ada-43bf-99ee-985ea90a1263",
   "metadata": {},
   "outputs": [
    {
     "name": "stdin",
     "output_type": "stream",
     "text": [
      "enter the fruits name1 mango\n",
      "enter the fruits name2 banana\n",
      "enter the fruits name3 apple\n",
      "enter the fruits name4 orange\n",
      "enter the fruits name5 cherry\n"
     ]
    },
    {
     "name": "stdout",
     "output_type": "stream",
     "text": [
      "['mango', 'apple', 'orange', 'cherry', 'kiwi']\n"
     ]
    }
   ],
   "source": [
    "a=[]\n",
    "for i in range(5):\n",
    "    b=input(f\"enter the fruits name{i+1}\")\n",
    "    a.append(b)\n",
    "a.append('kiwi')\n",
    "a.pop(1)\n",
    "print(a)"
   ]
  },
  {
   "cell_type": "code",
   "execution_count": 7,
   "id": "a0190b3f-66e4-4824-bd0e-319302076d09",
   "metadata": {},
   "outputs": [
    {
     "name": "stdin",
     "output_type": "stream",
     "text": [
      "Enter the list item 1:  45\n",
      "Enter the list item 2:  75\n",
      "Enter the list item 3:  84\n",
      "Enter the list item 4:  95\n",
      "Enter the list item 5:  65\n"
     ]
    },
    {
     "name": "stdout",
     "output_type": "stream",
     "text": [
      "Ascending: ['45', '65', '75', '84', '95']\n",
      "Descending: ['95', '84', '75', '65', '45']\n"
     ]
    }
   ],
   "source": [
    "a = []\n",
    "for i in range(5):\n",
    "    b = input(f\"Enter the list item {i + 1}: \")\n",
    "    a.append(b)\n",
    "\n",
    "a.sort()\n",
    "print(\"Ascending:\", a)\n",
    "a.reverse()\n",
    "print(\"Descending:\", a)\n"
   ]
  },
  {
   "cell_type": "code",
   "execution_count": null,
   "id": "ad35d06b-1516-41e8-a140-83b3d29d0c1f",
   "metadata": {},
   "outputs": [],
   "source": []
  }
 ],
 "metadata": {
  "kernelspec": {
   "display_name": "Python 3 (ipykernel)",
   "language": "python",
   "name": "python3"
  },
  "language_info": {
   "codemirror_mode": {
    "name": "ipython",
    "version": 3
   },
   "file_extension": ".py",
   "mimetype": "text/x-python",
   "name": "python",
   "nbconvert_exporter": "python",
   "pygments_lexer": "ipython3",
   "version": "3.12.4"
  }
 },
 "nbformat": 4,
 "nbformat_minor": 5
}
